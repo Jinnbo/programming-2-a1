{
 "cells": [
  {
   "cell_type": "markdown",
   "metadata": {},
   "source": [
    "# **Loops and Modules**\n",
    "\n",
    "![Hello!](https://i.imgur.com/xgz9nkR.gif)"
   ]
  },
  {
   "cell_type": "markdown",
   "metadata": {},
   "source": [
    "# Skills\n",
    "* use `for` and `while` loops like a boss\n",
    "* loop by numbers other than one\n",
    "* use `lists` and know how to build them\n",
    "* use modules like `random`\n",
    "* know where to find MORE modules and libraries"
   ]
  },
  {
   "cell_type": "markdown",
   "metadata": {},
   "source": [
    "---\n",
    "# Loops\n",
    "![From programarcadegames.com](http://programarcadegames.com/chapters/04_loops/game_loop.png)"
   ]
  },
  {
   "cell_type": "markdown",
   "metadata": {},
   "source": [
    "## **`for` loops**\n",
    "`for` loops are constructs that we can use to repeat code.\n",
    "\n",
    "For example, let's print something out multiple times."
   ]
  },
  {
   "cell_type": "code",
   "execution_count": 2,
   "metadata": {
    "tags": []
   },
   "outputs": [
    {
     "name": "stdout",
     "output_type": "stream",
     "text": [
      "0. Mr. Ubial is so cool.\n",
      "1. Mr. Ubial is so cool.\n",
      "2. Mr. Ubial is so cool.\n",
      "3. Mr. Ubial is so cool.\n",
      "4. Mr. Ubial is so cool.\n"
     ]
    }
   ],
   "source": [
    "# print five times\n",
    "for i in range(5):\n",
    "    print(f\"{i}. Mr. Ubial is so cool.\")"
   ]
  },
  {
   "cell_type": "code",
   "execution_count": 4,
   "metadata": {
    "tags": []
   },
   "outputs": [
    {
     "name": "stdout",
     "output_type": "stream",
     "text": [
      "0\n",
      "---\n",
      "1\n",
      "---\n",
      "2\n",
      "---\n",
      "3\n",
      "---\n",
      "4\n",
      "---\n"
     ]
    }
   ],
   "source": [
    "for i in range(5):\n",
    "    print(i)\n",
    "    print(\"---\")"
   ]
  },
  {
   "cell_type": "code",
   "execution_count": 5,
   "metadata": {
    "tags": []
   },
   "outputs": [
    {
     "name": "stdout",
     "output_type": "stream",
     "text": [
      "1\n",
      "2\n",
      "3\n",
      "4\n",
      "5\n",
      "6\n",
      "7\n",
      "8\n",
      "9\n",
      "10\n"
     ]
    }
   ],
   "source": [
    "# print the numbers from 1 to 10\n",
    "for i in range(10):\n",
    "    print(i+1)"
   ]
  },
  {
   "cell_type": "code",
   "execution_count": 6,
   "metadata": {
    "tags": []
   },
   "outputs": [
    {
     "name": "stdout",
     "output_type": "stream",
     "text": [
      "1\n",
      "2\n",
      "3\n",
      "4\n",
      "5\n",
      "6\n",
      "7\n",
      "8\n",
      "9\n",
      "10\n"
     ]
    }
   ],
   "source": [
    "# print numbers from 1 to 10, v2\n",
    "# range(<start>, <stop>, <>)\n",
    "for i in range(1, 11):\n",
    "    print(i)"
   ]
  },
  {
   "cell_type": "markdown",
   "metadata": {},
   "source": [
    "### Counting by numbers other than one\n",
    "There are ways we can use `range` to count by numbers other than one."
   ]
  },
  {
   "cell_type": "code",
   "execution_count": 7,
   "metadata": {
    "tags": []
   },
   "outputs": [
    {
     "name": "stdout",
     "output_type": "stream",
     "text": [
      "2\n",
      "4\n",
      "6\n",
      "8\n",
      "10\n"
     ]
    }
   ],
   "source": [
    "# count even numbers 2 to 10\n",
    "# range(<start>, <stop>, <step>)\n",
    "for i in range(2, 11, 2):\n",
    "    print(i)"
   ]
  },
  {
   "cell_type": "code",
   "execution_count": 8,
   "metadata": {
    "tags": []
   },
   "outputs": [
    {
     "name": "stdout",
     "output_type": "stream",
     "text": [
      "2\n",
      "4\n",
      "6\n",
      "8\n",
      "10\n"
     ]
    }
   ],
   "source": [
    "# count even numbers 2 to 10, v2\n",
    "for i in range(5):\n",
    "    print((i + 1) * 2)"
   ]
  },
  {
   "cell_type": "code",
   "execution_count": 9,
   "metadata": {
    "tags": []
   },
   "outputs": [
    {
     "name": "stdout",
     "output_type": "stream",
     "text": [
      "10\n",
      "9\n",
      "8\n",
      "7\n",
      "6\n",
      "5\n",
      "4\n",
      "3\n",
      "2\n",
      "1\n"
     ]
    }
   ],
   "source": [
    "# count backwards from 10 to 1\n",
    "for i in range(10, 0, -1):\n",
    "    print(i)"
   ]
  },
  {
   "cell_type": "code",
   "execution_count": 15,
   "metadata": {},
   "outputs": [
    {
     "data": {
      "text/plain": [
       "[2, 4, 6, 8, 10]"
      ]
     },
     "execution_count": 15,
     "metadata": {},
     "output_type": "execute_result"
    }
   ],
   "source": [
    "list(range(2, 11, 2)) # iterable"
   ]
  },
  {
   "cell_type": "markdown",
   "metadata": {},
   "source": [
    "# **Lists and Loops**\n",
    "\n",
    "## **Lists**\n",
    "Lists are a data structure\n",
    "* an ordered collection of types\n",
    "* use `[]` to surround our list\n",
    "* we separate the individual elements with a `,`"
   ]
  },
  {
   "cell_type": "code",
   "execution_count": 19,
   "metadata": {
    "tags": []
   },
   "outputs": [
    {
     "data": {
      "text/plain": [
       "75.25"
      ]
     },
     "execution_count": 19,
     "metadata": {},
     "output_type": "execute_result"
    }
   ],
   "source": [
    "# Lists\n",
    "# name variable as a PLURAL\n",
    "percentages = [90, 91, 91, 90 , 0, 68, 73, 99]\n",
    "\n",
    "# CALCULATE THE AVERAGE PERCENTAGE\n",
    "total = 0\n",
    "\n",
    "# for <element> in <list>:\n",
    "for percent in percentages:\n",
    "    total += percent\n",
    "\n",
    "average = total / len(percentages)\n",
    "average"
   ]
  },
  {
   "cell_type": "code",
   "execution_count": 20,
   "metadata": {
    "tags": []
   },
   "outputs": [
    {
     "data": {
      "text/plain": [
       "75.25"
      ]
     },
     "execution_count": 20,
     "metadata": {},
     "output_type": "execute_result"
    }
   ],
   "source": [
    "# Calculating Average V2\n",
    "percentages = [90, 91, 91, 90 , 0, 68, 73, 99]\n",
    "\n",
    "average = sum(percentages)/len(percentages)\n",
    "average"
   ]
  },
  {
   "cell_type": "code",
   "execution_count": 21,
   "metadata": {
    "tags": []
   },
   "outputs": [
    {
     "name": "stdout",
     "output_type": "stream",
     "text": [
      "a\n",
      "b\n",
      "b\n",
      "b\n",
      "a\n",
      "b\n",
      "b\n",
      "b\n",
      "a\n",
      "b\n",
      "b\n",
      "b\n"
     ]
    }
   ],
   "source": [
    "# Nested Loops\n",
    "for i in range(3):\n",
    "    print(\"a\")\n",
    "    for j in range(3):\n",
    "        print(\"b\")"
   ]
  },
  {
   "cell_type": "markdown",
   "metadata": {},
   "source": [
    "### Application of `for` Loops\n",
    "We want to add up all the numbers from 1 to 100."
   ]
  },
  {
   "cell_type": "code",
   "execution_count": 4,
   "metadata": {
    "tags": []
   },
   "outputs": [
    {
     "data": {
      "text/plain": [
       "5050"
      ]
     },
     "execution_count": 4,
     "metadata": {},
     "output_type": "execute_result"
    }
   ],
   "source": [
    "total = 0\n",
    "\n",
    "for i in range(1, 101):\n",
    "    total += i\n",
    "\n",
    "total"
   ]
  },
  {
   "cell_type": "code",
   "execution_count": 2,
   "metadata": {
    "tags": []
   },
   "outputs": [
    {
     "data": {
      "text/plain": [
       "5050"
      ]
     },
     "execution_count": 2,
     "metadata": {},
     "output_type": "execute_result"
    }
   ],
   "source": [
    "sum(list(range(1, 101)))"
   ]
  },
  {
   "cell_type": "markdown",
   "metadata": {},
   "source": [
    "## **List Comprehension**"
   ]
  },
  {
   "cell_type": "code",
   "execution_count": 5,
   "metadata": {},
   "outputs": [
    {
     "data": {
      "text/plain": [
       "[1, 2, 3, 4, 5, 6, 7, 8, 9, 10]"
      ]
     },
     "execution_count": 5,
     "metadata": {},
     "output_type": "execute_result"
    }
   ],
   "source": [
    "# a list containing numbers from 1-10\n",
    "one_to_ten = [i+1 for i in range(10)]\n",
    "one_to_ten"
   ]
  },
  {
   "cell_type": "code",
   "execution_count": 6,
   "metadata": {},
   "outputs": [
    {
     "data": {
      "text/plain": [
       "[1,\n",
       " 2,\n",
       " 4,\n",
       " 8,\n",
       " 16,\n",
       " 32,\n",
       " 64,\n",
       " 128,\n",
       " 256,\n",
       " 512,\n",
       " 1024,\n",
       " 2048,\n",
       " 4096,\n",
       " 8192,\n",
       " 16384,\n",
       " 32768,\n",
       " 65536,\n",
       " 131072,\n",
       " 262144,\n",
       " 524288,\n",
       " 1048576,\n",
       " 2097152,\n",
       " 4194304,\n",
       " 8388608,\n",
       " 16777216,\n",
       " 33554432,\n",
       " 67108864,\n",
       " 134217728,\n",
       " 268435456,\n",
       " 536870912,\n",
       " 1073741824,\n",
       " 2147483648,\n",
       " 4294967296,\n",
       " 8589934592,\n",
       " 17179869184,\n",
       " 34359738368,\n",
       " 68719476736,\n",
       " 137438953472,\n",
       " 274877906944,\n",
       " 549755813888,\n",
       " 1099511627776,\n",
       " 2199023255552,\n",
       " 4398046511104,\n",
       " 8796093022208,\n",
       " 17592186044416,\n",
       " 35184372088832,\n",
       " 70368744177664,\n",
       " 140737488355328,\n",
       " 281474976710656,\n",
       " 562949953421312,\n",
       " 1125899906842624]"
      ]
     },
     "execution_count": 6,
     "metadata": {},
     "output_type": "execute_result"
    }
   ],
   "source": [
    "# powers of 2 from 0 to 50\n",
    "powers_of_two = [2**i for i in range(51)]\n",
    "powers_of_two"
   ]
  },
  {
   "cell_type": "code",
   "execution_count": 10,
   "metadata": {},
   "outputs": [
    {
     "data": {
      "text/plain": [
       "['John Lee',\n",
       " 'Joe Lee',\n",
       " 'Lisa Lee',\n",
       " 'Karen Lee',\n",
       " 'Trung Lee',\n",
       " 'Gheorghe Lee',\n",
       " 'Anastasia Lee']"
      ]
     },
     "execution_count": 10,
     "metadata": {},
     "output_type": "execute_result"
    }
   ],
   "source": [
    "list_of_names = [\n",
    "    \"John\",\n",
    "    \"Joe\",\n",
    "    \"Lisa\",\n",
    "    \"Karen\",\n",
    "    \"Trung\",\n",
    "    \"Gheorghe\",\n",
    "    \"Anastasia\"\n",
    "]\n",
    "names_with_family_names = [name + \" Lee\" for name in list_of_names]\n",
    "names_with_family_names\n",
    "\n",
    "names_with_family_names_two = []\n",
    "\n",
    "for name in list_of_names:\n",
    "    names_with_family_names_two.append(name + \" Lee\")"
   ]
  },
  {
   "cell_type": "code",
   "execution_count": 13,
   "metadata": {},
   "outputs": [
    {
     "data": {
      "text/plain": [
       "['Hello world!',\n",
       " 'Hello world!',\n",
       " 'Hello world!',\n",
       " 'Hello world!',\n",
       " 'Hello world!',\n",
       " 'Hello world!',\n",
       " 'Hello world!',\n",
       " 'Hello world!',\n",
       " 'Hello world!',\n",
       " 'Hello world!',\n",
       " 'Hello world!',\n",
       " 'Hello world!',\n",
       " 'Hello world!',\n",
       " 'Hello world!',\n",
       " 'Hello world!',\n",
       " 'Hello world!',\n",
       " 'Hello world!',\n",
       " 'Hello world!',\n",
       " 'Hello world!',\n",
       " 'Hello world!',\n",
       " 'Hello world!',\n",
       " 'Hello world!',\n",
       " 'Hello world!',\n",
       " 'Hello world!',\n",
       " 'Hello world!',\n",
       " 'Hello world!',\n",
       " 'Hello world!',\n",
       " 'Hello world!',\n",
       " 'Hello world!',\n",
       " 'Hello world!',\n",
       " 'Hello world!',\n",
       " 'Hello world!',\n",
       " 'Hello world!',\n",
       " 'Hello world!',\n",
       " 'Hello world!',\n",
       " 'Hello world!',\n",
       " 'Hello world!',\n",
       " 'Hello world!',\n",
       " 'Hello world!',\n",
       " 'Hello world!',\n",
       " 'Hello world!',\n",
       " 'Hello world!',\n",
       " 'Hello world!',\n",
       " 'Hello world!',\n",
       " 'Hello world!',\n",
       " 'Hello world!',\n",
       " 'Hello world!',\n",
       " 'Hello world!',\n",
       " 'Hello world!',\n",
       " 'Hello world!']"
      ]
     },
     "execution_count": 13,
     "metadata": {},
     "output_type": "execute_result"
    }
   ],
   "source": [
    "# initialize a list of 100x 0s\n",
    "\n",
    "list_of_zeroes = [0] * 100\n",
    "list_of_strs = [\"Hello world!\"] * 50\n",
    "list_of_strs"
   ]
  },
  {
   "cell_type": "markdown",
   "metadata": {},
   "source": [
    "---\n",
    "## **`while` loops**\n",
    "`while` loops are used when you don't know how many times you want to loop."
   ]
  },
  {
   "cell_type": "code",
   "execution_count": null,
   "metadata": {
    "tags": []
   },
   "outputs": [],
   "source": [
    "# infinite loop\n",
    "\n",
    "while True:\n",
    "    print(\"Hi!\")"
   ]
  },
  {
   "cell_type": "code",
   "execution_count": 15,
   "metadata": {},
   "outputs": [
    {
     "name": "stdin",
     "output_type": "stream",
     "text": [
      "Do you want to quit? (y/n) \n",
      "Do you want to quit? (y/n) \n",
      "Do you want to quit? (y/n) \n",
      "Do you want to quit? (y/n) \n",
      "Do you want to quit? (y/n) \n",
      "Do you want to quit? (y/n) \n",
      "Do you want to quit? (y/n) \n",
      "Do you want to quit? (y/n) \n",
      "Do you want to quit? (y/n) \n",
      "Do you want to quit? (y/n) NO\n",
      "Do you want to quit? (y/n) yes\n"
     ]
    },
    {
     "name": "stdout",
     "output_type": "stream",
     "text": [
      "We're done!~\n"
     ]
    }
   ],
   "source": [
    "# Loop until the user says they're done\n",
    "done = False\n",
    "\n",
    "while not done:\n",
    "    response = input(\"Do you want to quit? (y/n)\").lower()\n",
    "    \n",
    "    if response in [\"yes\", \"y\"]:\n",
    "        print(\"We're done!~\")\n",
    "        done = True"
   ]
  },
  {
   "cell_type": "markdown",
   "metadata": {},
   "source": [
    "## **`enumerate()`**\n",
    "\n",
    "`enumerate()` allows us to iterate over a list  \n",
    "and keep track of the index (its location)."
   ]
  },
  {
   "cell_type": "code",
   "execution_count": 19,
   "metadata": {},
   "outputs": [
    {
     "name": "stdout",
     "output_type": "stream",
     "text": [
      "['Canada', 'United States', 'Mexico']\n",
      "['Canada', 'USA', 'Mexico']\n"
     ]
    }
   ],
   "source": [
    "countries = [\"Canada\", \"United States\", \"Mexico\"]\n",
    "\n",
    "print(countries)\n",
    "\n",
    "for index, country in enumerate(countries):\n",
    "    # find the united states\n",
    "    if country == \"United States\":\n",
    "        # insert in the original location \"USA\" instead\n",
    "        countries[index] = \"USA\"\n",
    "\n",
    "print(countries)"
   ]
  },
  {
   "cell_type": "markdown",
   "metadata": {},
   "source": [
    "### `random` module and modules in general\n",
    "**Modules** are tools that others have created to make our lives easier.\n",
    "\n",
    "For example, `random` includes a library of tools that have to do with randomness."
   ]
  },
  {
   "cell_type": "code",
   "execution_count": 48,
   "metadata": {
    "tags": []
   },
   "outputs": [
    {
     "name": "stdout",
     "output_type": "stream",
     "text": [
      "heads\n"
     ]
    }
   ],
   "source": [
    "import random\n",
    "# check in Slack the documentation for random\n",
    "\n",
    "random.randrange(10,50)\n",
    "\n",
    "if random.random() <= 0.5:\n",
    "    print(\"heads\")\n",
    "else:\n",
    "    print(\"tails\")"
   ]
  },
  {
   "cell_type": "code",
   "execution_count": null,
   "metadata": {
    "tags": []
   },
   "outputs": [],
   "source": []
  },
  {
   "cell_type": "code",
   "execution_count": 61,
   "metadata": {},
   "outputs": [
    {
     "data": {
      "text/plain": [
       "1.167543827483854"
      ]
     },
     "execution_count": 61,
     "metadata": {},
     "output_type": "execute_result"
    }
   ],
   "source": [
    "# generates a float between\n",
    "# 0 and 1\n",
    "random.uniform(0.5, 1.7)"
   ]
  },
  {
   "cell_type": "markdown",
   "metadata": {},
   "source": [
    "## **Finding New Modules**\n",
    "\n",
    "There are SO MANY modules out there that we can use.\n",
    "\n",
    "Use the GOOGLES to find new modules.\n",
    "\n",
    "Once you've found a module that you like, install it with `pip`.\n",
    "\n",
    "`pip3 install --user <nameofpackage>`\n",
    "\n",
    "Modules to install:\n",
    "* pyperclip (access clipboard to cut/copy and paste)\n",
    "* requests (http)\n",
    "* bs4 - beautiful soup (parse http info)"
   ]
  },
  {
   "cell_type": "markdown",
   "metadata": {},
   "source": [
    "---\n",
    "## **Exercise**\n",
    "\n",
    "For each of these problems, create a new Python file.  \n",
    "Be sure to name the file correctly."
   ]
  },
  {
   "cell_type": "markdown",
   "metadata": {},
   "source": [
    "### 1. Number Pyramid\n",
    "`lastname_initial_01pyramid.py`\n",
    "\n",
    "Write a Python program that will print the following:\n",
    "\n",
    "`  \n",
    "10  \n",
    "11 12  \n",
    "13 14 15  \n",
    "16 17 18 19  \n",
    "20 21 22 23 24  \n",
    "25 26 27 28 29 30  \n",
    "31 32 33 34 35 36 37  \n",
    "38 39 40 41 42 43 44 45  \n",
    "46 47 48 49 50 51 52 53 54`"
   ]
  },
  {
   "cell_type": "markdown",
   "metadata": {},
   "source": [
    "## 2. Big Box\n",
    "Filename: `lastname_initial_02bigbox.py`\n",
    "\n",
    "Create a box out of n rows of letter o's for any size n. Get the n value using the `input()` from the user. (Remember to cast that as an `int`).\n",
    "\n",
    "`E.g. n = 3\n",
    "oooooo\n",
    "o    o\n",
    "oooooo`\n",
    " \n",
    "`E.g. n = 8\n",
    "oooooooooooooooo\n",
    "o              o\n",
    "o              o\n",
    "o              o\n",
    "o              o\n",
    "o              o\n",
    "o              o\n",
    "oooooooooooooooo`\n",
    "\n",
    "Hint: break the problem up into parts\n",
    "* Trying building the top of the box, then the bottom\n",
    "* Then once you've done that, create the sides"
   ]
  }
 ],
 "metadata": {
  "kernelspec": {
   "display_name": "Python 3",
   "language": "python",
   "name": "python3"
  },
  "language_info": {
   "codemirror_mode": {
    "name": "ipython",
    "version": 3
   },
   "file_extension": ".py",
   "mimetype": "text/x-python",
   "name": "python",
   "nbconvert_exporter": "python",
   "pygments_lexer": "ipython3",
   "version": "3.8.2"
  }
 },
 "nbformat": 4,
 "nbformat_minor": 4
}
